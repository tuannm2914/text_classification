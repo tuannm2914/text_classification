{
 "cells": [
  {
   "cell_type": "code",
   "execution_count": 1,
   "metadata": {},
   "outputs": [],
   "source": [
    "import numpy as np\n",
    "import io\n",
    "from collections import defaultdict\n",
    "import pandas as pd"
   ]
  },
  {
   "cell_type": "code",
   "execution_count": 2,
   "metadata": {},
   "outputs": [],
   "source": [
    "revs = []\n",
    "vocab = defaultdict(float)\n",
    "with io.open(\"data/rt-polarity.pos\",\"r\", encoding=\"latin-1\") as f:\n",
    "    for line in f:\n",
    "        rev = []\n",
    "        rev.append(line.strip())\n",
    "        orig_rev = \" \".join(rev).lower()\n",
    "        words = set(orig_rev.split())\n",
    "        for word in words:\n",
    "            vocab[word] += 1\n",
    "        datum  = {\"y\":1, \n",
    "                  \"text\": orig_rev,                             \n",
    "                  \"num_words\": len(orig_rev.split()),\n",
    "                  \"split\": np.random.randint(0,10)}\n",
    "        revs.append(datum)\n",
    "with io.open(\"data/rt-polarity.neg\",\"r\", encoding=\"latin-1\") as f:\n",
    "    for line in f:\n",
    "        rev = []\n",
    "        rev.append(line.strip())\n",
    "        orig_rev = \" \".join(rev).lower()\n",
    "        words = set(orig_rev.split())\n",
    "        for word in words:\n",
    "            vocab[word] += 1\n",
    "        datum  = {\"y\":0, \n",
    "                  \"text\": orig_rev,                             \n",
    "                  \"num_words\": len(orig_rev.split()),\n",
    "                  \"split\": np.random.randint(0,10)}\n",
    "        revs.append(datum)"
   ]
  },
  {
   "cell_type": "code",
   "execution_count": 3,
   "metadata": {},
   "outputs": [
    {
     "data": {
      "text/plain": [
       "[{'y': 1,\n",
       "  'text': 'the rock is destined to be the 21st century\\'s new \" conan \" and that he\\'s going to make a splash even greater than arnold schwarzenegger , jean-claud van damme or steven segal .',\n",
       "  'num_words': 34,\n",
       "  'split': 9},\n",
       " {'y': 1,\n",
       "  'text': 'the gorgeously elaborate continuation of \" the lord of the rings \" trilogy is so huge that a column of words cannot adequately describe co-writer/director peter jackson\\'s expanded vision of j . r . r . tolkien\\'s middle-earth .',\n",
       "  'num_words': 39,\n",
       "  'split': 8},\n",
       " {'y': 1,\n",
       "  'text': 'effective but too-tepid biopic',\n",
       "  'num_words': 4,\n",
       "  'split': 7},\n",
       " {'y': 1,\n",
       "  'text': 'if you sometimes like to go to the movies to have fun , wasabi is a good place to start .',\n",
       "  'num_words': 21,\n",
       "  'split': 1},\n",
       " {'y': 1,\n",
       "  'text': \"emerges as something rare , an issue movie that's so honest and keenly observed that it doesn't feel like one .\",\n",
       "  'num_words': 21,\n",
       "  'split': 3},\n",
       " {'y': 1,\n",
       "  'text': 'the film provides some great insight into the neurotic mindset of all comics -- even those who have reached the absolute top of the game .',\n",
       "  'num_words': 26,\n",
       "  'split': 2},\n",
       " {'y': 1,\n",
       "  'text': 'offers that rare combination of entertainment and education .',\n",
       "  'num_words': 9,\n",
       "  'split': 3},\n",
       " {'y': 1,\n",
       "  'text': 'perhaps no picture ever made has more literally showed that the road to hell is paved with good intentions .',\n",
       "  'num_words': 20,\n",
       "  'split': 5},\n",
       " {'y': 1,\n",
       "  'text': \"steers turns in a snappy screenplay that curls at the edges ; it's so clever you want to hate it . but he somehow pulls it off .\",\n",
       "  'num_words': 28,\n",
       "  'split': 0},\n",
       " {'y': 1,\n",
       "  'text': 'take care of my cat offers a refreshingly different slice of asian cinema .',\n",
       "  'num_words': 14,\n",
       "  'split': 2}]"
      ]
     },
     "execution_count": 3,
     "metadata": {},
     "output_type": "execute_result"
    }
   ],
   "source": [
    "revs[0:10]"
   ]
  },
  {
   "cell_type": "code",
   "execution_count": 4,
   "metadata": {},
   "outputs": [],
   "source": [
    "original_data = pd.DataFrame(revs)"
   ]
  },
  {
   "cell_type": "code",
   "execution_count": 5,
   "metadata": {},
   "outputs": [],
   "source": [
    "original_data.to_csv(\"data/raw_data.csv\")"
   ]
  },
  {
   "cell_type": "code",
   "execution_count": 6,
   "metadata": {},
   "outputs": [
    {
     "data": {
      "text/html": [
       "<div>\n",
       "<style scoped>\n",
       "    .dataframe tbody tr th:only-of-type {\n",
       "        vertical-align: middle;\n",
       "    }\n",
       "\n",
       "    .dataframe tbody tr th {\n",
       "        vertical-align: top;\n",
       "    }\n",
       "\n",
       "    .dataframe thead th {\n",
       "        text-align: right;\n",
       "    }\n",
       "</style>\n",
       "<table border=\"1\" class=\"dataframe\">\n",
       "  <thead>\n",
       "    <tr style=\"text-align: right;\">\n",
       "      <th></th>\n",
       "      <th>num_words</th>\n",
       "      <th>split</th>\n",
       "      <th>text</th>\n",
       "      <th>y</th>\n",
       "    </tr>\n",
       "  </thead>\n",
       "  <tbody>\n",
       "    <tr>\n",
       "      <th>0</th>\n",
       "      <td>34</td>\n",
       "      <td>9</td>\n",
       "      <td>the rock is destined to be the 21st century's ...</td>\n",
       "      <td>1</td>\n",
       "    </tr>\n",
       "    <tr>\n",
       "      <th>1</th>\n",
       "      <td>39</td>\n",
       "      <td>8</td>\n",
       "      <td>the gorgeously elaborate continuation of \" the...</td>\n",
       "      <td>1</td>\n",
       "    </tr>\n",
       "    <tr>\n",
       "      <th>2</th>\n",
       "      <td>4</td>\n",
       "      <td>7</td>\n",
       "      <td>effective but too-tepid biopic</td>\n",
       "      <td>1</td>\n",
       "    </tr>\n",
       "    <tr>\n",
       "      <th>3</th>\n",
       "      <td>21</td>\n",
       "      <td>1</td>\n",
       "      <td>if you sometimes like to go to the movies to h...</td>\n",
       "      <td>1</td>\n",
       "    </tr>\n",
       "    <tr>\n",
       "      <th>4</th>\n",
       "      <td>21</td>\n",
       "      <td>3</td>\n",
       "      <td>emerges as something rare , an issue movie tha...</td>\n",
       "      <td>1</td>\n",
       "    </tr>\n",
       "  </tbody>\n",
       "</table>\n",
       "</div>"
      ],
      "text/plain": [
       "   num_words  split                                               text  y\n",
       "0         34      9  the rock is destined to be the 21st century's ...  1\n",
       "1         39      8  the gorgeously elaborate continuation of \" the...  1\n",
       "2          4      7                     effective but too-tepid biopic  1\n",
       "3         21      1  if you sometimes like to go to the movies to h...  1\n",
       "4         21      3  emerges as something rare , an issue movie tha...  1"
      ]
     },
     "execution_count": 6,
     "metadata": {},
     "output_type": "execute_result"
    }
   ],
   "source": [
    "original_data.head()"
   ]
  },
  {
   "cell_type": "code",
   "execution_count": 7,
   "metadata": {},
   "outputs": [
    {
     "data": {
      "text/html": [
       "<div>\n",
       "<style scoped>\n",
       "    .dataframe tbody tr th:only-of-type {\n",
       "        vertical-align: middle;\n",
       "    }\n",
       "\n",
       "    .dataframe tbody tr th {\n",
       "        vertical-align: top;\n",
       "    }\n",
       "\n",
       "    .dataframe thead th {\n",
       "        text-align: right;\n",
       "    }\n",
       "</style>\n",
       "<table border=\"1\" class=\"dataframe\">\n",
       "  <thead>\n",
       "    <tr style=\"text-align: right;\">\n",
       "      <th></th>\n",
       "      <th>text</th>\n",
       "      <th>char_count</th>\n",
       "    </tr>\n",
       "  </thead>\n",
       "  <tbody>\n",
       "    <tr>\n",
       "      <th>0</th>\n",
       "      <td>the rock is destined to be the 21st century's ...</td>\n",
       "      <td>177</td>\n",
       "    </tr>\n",
       "    <tr>\n",
       "      <th>1</th>\n",
       "      <td>the gorgeously elaborate continuation of \" the...</td>\n",
       "      <td>226</td>\n",
       "    </tr>\n",
       "    <tr>\n",
       "      <th>2</th>\n",
       "      <td>effective but too-tepid biopic</td>\n",
       "      <td>30</td>\n",
       "    </tr>\n",
       "    <tr>\n",
       "      <th>3</th>\n",
       "      <td>if you sometimes like to go to the movies to h...</td>\n",
       "      <td>89</td>\n",
       "    </tr>\n",
       "    <tr>\n",
       "      <th>4</th>\n",
       "      <td>emerges as something rare , an issue movie tha...</td>\n",
       "      <td>111</td>\n",
       "    </tr>\n",
       "  </tbody>\n",
       "</table>\n",
       "</div>"
      ],
      "text/plain": [
       "                                                text  char_count\n",
       "0  the rock is destined to be the 21st century's ...         177\n",
       "1  the gorgeously elaborate continuation of \" the...         226\n",
       "2                     effective but too-tepid biopic          30\n",
       "3  if you sometimes like to go to the movies to h...          89\n",
       "4  emerges as something rare , an issue movie tha...         111"
      ]
     },
     "execution_count": 7,
     "metadata": {},
     "output_type": "execute_result"
    }
   ],
   "source": [
    "original_data['char_count'] = original_data['text'].str.len()\n",
    "original_data[['text','char_count']].head()"
   ]
  },
  {
   "cell_type": "code",
   "execution_count": 8,
   "metadata": {},
   "outputs": [
    {
     "data": {
      "text/html": [
       "<div>\n",
       "<style scoped>\n",
       "    .dataframe tbody tr th:only-of-type {\n",
       "        vertical-align: middle;\n",
       "    }\n",
       "\n",
       "    .dataframe tbody tr th {\n",
       "        vertical-align: top;\n",
       "    }\n",
       "\n",
       "    .dataframe thead th {\n",
       "        text-align: right;\n",
       "    }\n",
       "</style>\n",
       "<table border=\"1\" class=\"dataframe\">\n",
       "  <thead>\n",
       "    <tr style=\"text-align: right;\">\n",
       "      <th></th>\n",
       "      <th>text</th>\n",
       "      <th>stopwords</th>\n",
       "    </tr>\n",
       "  </thead>\n",
       "  <tbody>\n",
       "    <tr>\n",
       "      <th>0</th>\n",
       "      <td>the rock is destined to be the 21st century's ...</td>\n",
       "      <td>11</td>\n",
       "    </tr>\n",
       "    <tr>\n",
       "      <th>1</th>\n",
       "      <td>the gorgeously elaborate continuation of \" the...</td>\n",
       "      <td>11</td>\n",
       "    </tr>\n",
       "    <tr>\n",
       "      <th>2</th>\n",
       "      <td>effective but too-tepid biopic</td>\n",
       "      <td>1</td>\n",
       "    </tr>\n",
       "    <tr>\n",
       "      <th>3</th>\n",
       "      <td>if you sometimes like to go to the movies to h...</td>\n",
       "      <td>10</td>\n",
       "    </tr>\n",
       "    <tr>\n",
       "      <th>4</th>\n",
       "      <td>emerges as something rare , an issue movie tha...</td>\n",
       "      <td>7</td>\n",
       "    </tr>\n",
       "  </tbody>\n",
       "</table>\n",
       "</div>"
      ],
      "text/plain": [
       "                                                text  stopwords\n",
       "0  the rock is destined to be the 21st century's ...         11\n",
       "1  the gorgeously elaborate continuation of \" the...         11\n",
       "2                     effective but too-tepid biopic          1\n",
       "3  if you sometimes like to go to the movies to h...         10\n",
       "4  emerges as something rare , an issue movie tha...          7"
      ]
     },
     "execution_count": 8,
     "metadata": {},
     "output_type": "execute_result"
    }
   ],
   "source": [
    "# Number of stopwords\n",
    "from nltk.corpus import stopwords\n",
    "stop = stopwords.words('english')\n",
    "\n",
    "original_data['stopwords'] = original_data['text'].apply(lambda x: len([word for word in x.split() if word in stop]))\n",
    "original_data[['text','stopwords']].head()\n"
   ]
  },
  {
   "cell_type": "code",
   "execution_count": 9,
   "metadata": {},
   "outputs": [
    {
     "data": {
      "text/html": [
       "<div>\n",
       "<style scoped>\n",
       "    .dataframe tbody tr th:only-of-type {\n",
       "        vertical-align: middle;\n",
       "    }\n",
       "\n",
       "    .dataframe tbody tr th {\n",
       "        vertical-align: top;\n",
       "    }\n",
       "\n",
       "    .dataframe thead th {\n",
       "        text-align: right;\n",
       "    }\n",
       "</style>\n",
       "<table border=\"1\" class=\"dataframe\">\n",
       "  <thead>\n",
       "    <tr style=\"text-align: right;\">\n",
       "      <th></th>\n",
       "      <th>text</th>\n",
       "      <th>numerics</th>\n",
       "    </tr>\n",
       "  </thead>\n",
       "  <tbody>\n",
       "    <tr>\n",
       "      <th>0</th>\n",
       "      <td>the rock is destined to be the 21st century's ...</td>\n",
       "      <td>0</td>\n",
       "    </tr>\n",
       "    <tr>\n",
       "      <th>1</th>\n",
       "      <td>the gorgeously elaborate continuation of \" the...</td>\n",
       "      <td>0</td>\n",
       "    </tr>\n",
       "    <tr>\n",
       "      <th>2</th>\n",
       "      <td>effective but too-tepid biopic</td>\n",
       "      <td>0</td>\n",
       "    </tr>\n",
       "    <tr>\n",
       "      <th>3</th>\n",
       "      <td>if you sometimes like to go to the movies to h...</td>\n",
       "      <td>0</td>\n",
       "    </tr>\n",
       "    <tr>\n",
       "      <th>4</th>\n",
       "      <td>emerges as something rare , an issue movie tha...</td>\n",
       "      <td>0</td>\n",
       "    </tr>\n",
       "  </tbody>\n",
       "</table>\n",
       "</div>"
      ],
      "text/plain": [
       "                                                text  numerics\n",
       "0  the rock is destined to be the 21st century's ...         0\n",
       "1  the gorgeously elaborate continuation of \" the...         0\n",
       "2                     effective but too-tepid biopic         0\n",
       "3  if you sometimes like to go to the movies to h...         0\n",
       "4  emerges as something rare , an issue movie tha...         0"
      ]
     },
     "execution_count": 9,
     "metadata": {},
     "output_type": "execute_result"
    }
   ],
   "source": [
    "# Number of numetics\n",
    "original_data['numerics'] = original_data['text'].apply(lambda x: len([el for el in x.split() if el.isdigit()]))\n",
    "original_data[['text','numerics']].head()\n"
   ]
  },
  {
   "cell_type": "markdown",
   "metadata": {},
   "source": [
    "## Basic Pre-processing"
   ]
  },
  {
   "cell_type": "markdown",
   "metadata": {},
   "source": [
    "### Lower case"
   ]
  },
  {
   "cell_type": "code",
   "execution_count": 10,
   "metadata": {},
   "outputs": [
    {
     "data": {
      "text/plain": [
       "0    the rock is destined to be the 21st century's ...\n",
       "1    the gorgeously elaborate continuation of \" the...\n",
       "2                       effective but too-tepid biopic\n",
       "3    if you sometimes like to go to the movies to h...\n",
       "4    emerges as something rare , an issue movie tha...\n",
       "Name: text, dtype: object"
      ]
     },
     "execution_count": 10,
     "metadata": {},
     "output_type": "execute_result"
    }
   ],
   "source": [
    "# convert to all lower case\n",
    "original_data['text'] = original_data['text'].apply(lambda x: \" \".join(x.lower() for x in x.split()))\n",
    "original_data['text'].head()"
   ]
  },
  {
   "cell_type": "markdown",
   "metadata": {},
   "source": [
    "### Removing Punctuation"
   ]
  },
  {
   "cell_type": "code",
   "execution_count": 11,
   "metadata": {},
   "outputs": [
    {
     "data": {
      "text/plain": [
       "0    the rock is destined to be the 21st centurys n...\n",
       "1    the gorgeously elaborate continuation of  the ...\n",
       "2                        effective but tootepid biopic\n",
       "3    if you sometimes like to go to the movies to h...\n",
       "4    emerges as something rare  an issue movie that...\n",
       "Name: text, dtype: object"
      ]
     },
     "execution_count": 11,
     "metadata": {},
     "output_type": "execute_result"
    }
   ],
   "source": [
    "original_data['text'] = original_data['text'].str.replace('[^\\w\\s]','')\n",
    "original_data['text'].head()"
   ]
  },
  {
   "cell_type": "markdown",
   "metadata": {},
   "source": [
    "### Removal of Stop words"
   ]
  },
  {
   "cell_type": "code",
   "execution_count": 12,
   "metadata": {},
   "outputs": [
    {
     "data": {
      "text/plain": [
       "0    rock destined 21st centurys new conan hes goin...\n",
       "1    gorgeously elaborate continuation lord rings t...\n",
       "2                            effective tootepid biopic\n",
       "3    sometimes like go movies fun wasabi good place...\n",
       "4    emerges something rare issue movie thats hones...\n",
       "Name: text, dtype: object"
      ]
     },
     "execution_count": 12,
     "metadata": {},
     "output_type": "execute_result"
    }
   ],
   "source": [
    "from nltk.corpus import stopwords\n",
    "stop = stopwords.words('english')\n",
    "original_data['text'] = original_data['text'].apply(lambda x: \" \".join(x for x in x.split() if x not in stop))\n",
    "original_data['text'].head()"
   ]
  },
  {
   "cell_type": "markdown",
   "metadata": {},
   "source": [
    "### Common word removal"
   ]
  },
  {
   "cell_type": "code",
   "execution_count": 13,
   "metadata": {},
   "outputs": [
    {
     "data": {
      "text/plain": [
       "film      1452\n",
       "movie     1271\n",
       "one        727\n",
       "like       721\n",
       "story      477\n",
       "much       386\n",
       "even       382\n",
       "good       377\n",
       "comedy     359\n",
       "time       341\n",
       "dtype: int64"
      ]
     },
     "execution_count": 13,
     "metadata": {},
     "output_type": "execute_result"
    }
   ],
   "source": [
    "freq = pd.Series(' '.join(original_data['text']).split()).value_counts()[:10]\n",
    "freq"
   ]
  },
  {
   "cell_type": "code",
   "execution_count": 14,
   "metadata": {},
   "outputs": [
    {
     "data": {
      "text/plain": [
       "0    rock destined 21st centurys new conan hes goin...\n",
       "1    gorgeously elaborate continuation lord rings t...\n",
       "2                            effective tootepid biopic\n",
       "3    sometimes like go movies fun wasabi good place...\n",
       "4    emerges something rare issue thats honest keen...\n",
       "Name: text, dtype: object"
      ]
     },
     "execution_count": 14,
     "metadata": {},
     "output_type": "execute_result"
    }
   ],
   "source": [
    "not_useful_word = ['.',',','film','movie','one']\n",
    "original_data['text'] = original_data['text'].apply(lambda x: \" \".join(x for x in x.split() if x not in not_useful_word))\n",
    "original_data['text'].head()"
   ]
  },
  {
   "cell_type": "markdown",
   "metadata": {},
   "source": [
    "### Rare words removal"
   ]
  },
  {
   "cell_type": "code",
   "execution_count": 15,
   "metadata": {},
   "outputs": [
    {
     "data": {
      "text/plain": [
       "inhospitability         1\n",
       "icons                   1\n",
       "affirmation             1\n",
       "orquídeas               1\n",
       "lamer                   1\n",
       "jolted                  1\n",
       "worldlywise             1\n",
       "hymn                    1\n",
       "stringpulling           1\n",
       "drivers                 1\n",
       "inbetween               1\n",
       "playoff                 1\n",
       "malkovichs              1\n",
       "hoofing                 1\n",
       "chais                   1\n",
       "bebop                   1\n",
       "breast                  1\n",
       "thrillernoir            1\n",
       "benefitted              1\n",
       "chanting                1\n",
       "highpowered             1\n",
       "warnings                1\n",
       "predictableadventure    1\n",
       "1954                    1\n",
       "meatballs               1\n",
       "morgen                  1\n",
       "midlevel                1\n",
       "novice                  1\n",
       "jiang                   1\n",
       "eavesdropping           1\n",
       "antidarwinian           1\n",
       "lowdown                 1\n",
       "gadzooks                1\n",
       "juggling                1\n",
       "triedandtrue            1\n",
       "continuação             1\n",
       "depravity               1\n",
       "scalds                  1\n",
       "melts                   1\n",
       "milking                 1\n",
       "brassy                  1\n",
       "fugitive                1\n",
       "repeats                 1\n",
       "robustness              1\n",
       "appetizing              1\n",
       "adamant                 1\n",
       "questing                1\n",
       "fijos                   1\n",
       "judds                   1\n",
       "milestone               1\n",
       "dtype: int64"
      ]
     },
     "execution_count": 15,
     "metadata": {},
     "output_type": "execute_result"
    }
   ],
   "source": [
    "freq = pd.Series(' '.join(original_data['text']).split()).value_counts()[-50:]\n",
    "freq"
   ]
  },
  {
   "cell_type": "code",
   "execution_count": 16,
   "metadata": {
    "scrolled": true
   },
   "outputs": [
    {
     "data": {
      "text/html": [
       "<div>\n",
       "<style scoped>\n",
       "    .dataframe tbody tr th:only-of-type {\n",
       "        vertical-align: middle;\n",
       "    }\n",
       "\n",
       "    .dataframe tbody tr th {\n",
       "        vertical-align: top;\n",
       "    }\n",
       "\n",
       "    .dataframe thead th {\n",
       "        text-align: right;\n",
       "    }\n",
       "</style>\n",
       "<table border=\"1\" class=\"dataframe\">\n",
       "  <thead>\n",
       "    <tr style=\"text-align: right;\">\n",
       "      <th></th>\n",
       "      <th>num_words</th>\n",
       "      <th>split</th>\n",
       "      <th>text</th>\n",
       "      <th>y</th>\n",
       "      <th>char_count</th>\n",
       "      <th>stopwords</th>\n",
       "      <th>numerics</th>\n",
       "    </tr>\n",
       "  </thead>\n",
       "  <tbody>\n",
       "    <tr>\n",
       "      <th>0</th>\n",
       "      <td>34</td>\n",
       "      <td>9</td>\n",
       "      <td>rock destined 21st centurys new conan hes goin...</td>\n",
       "      <td>1</td>\n",
       "      <td>177</td>\n",
       "      <td>11</td>\n",
       "      <td>0</td>\n",
       "    </tr>\n",
       "    <tr>\n",
       "      <th>1</th>\n",
       "      <td>39</td>\n",
       "      <td>8</td>\n",
       "      <td>gorgeously elaborate continuation lord rings t...</td>\n",
       "      <td>1</td>\n",
       "      <td>226</td>\n",
       "      <td>11</td>\n",
       "      <td>0</td>\n",
       "    </tr>\n",
       "    <tr>\n",
       "      <th>2</th>\n",
       "      <td>4</td>\n",
       "      <td>7</td>\n",
       "      <td>effective tootepid biopic</td>\n",
       "      <td>1</td>\n",
       "      <td>30</td>\n",
       "      <td>1</td>\n",
       "      <td>0</td>\n",
       "    </tr>\n",
       "    <tr>\n",
       "      <th>3</th>\n",
       "      <td>21</td>\n",
       "      <td>1</td>\n",
       "      <td>sometimes like go movies fun wasabi good place...</td>\n",
       "      <td>1</td>\n",
       "      <td>89</td>\n",
       "      <td>10</td>\n",
       "      <td>0</td>\n",
       "    </tr>\n",
       "    <tr>\n",
       "      <th>4</th>\n",
       "      <td>21</td>\n",
       "      <td>3</td>\n",
       "      <td>emerges something rare issue thats honest keen...</td>\n",
       "      <td>1</td>\n",
       "      <td>111</td>\n",
       "      <td>7</td>\n",
       "      <td>0</td>\n",
       "    </tr>\n",
       "  </tbody>\n",
       "</table>\n",
       "</div>"
      ],
      "text/plain": [
       "   num_words  split                                               text  y  \\\n",
       "0         34      9  rock destined 21st centurys new conan hes goin...  1   \n",
       "1         39      8  gorgeously elaborate continuation lord rings t...  1   \n",
       "2          4      7                          effective tootepid biopic  1   \n",
       "3         21      1  sometimes like go movies fun wasabi good place...  1   \n",
       "4         21      3  emerges something rare issue thats honest keen...  1   \n",
       "\n",
       "   char_count  stopwords  numerics  \n",
       "0         177         11         0  \n",
       "1         226         11         0  \n",
       "2          30          1         0  \n",
       "3          89         10         0  \n",
       "4         111          7         0  "
      ]
     },
     "execution_count": 16,
     "metadata": {},
     "output_type": "execute_result"
    }
   ],
   "source": [
    "freq = list(freq.index)\n",
    "original_data['text'] = original_data['text'].apply(lambda x: \" \".join(x for x in x.split() if x not in freq))\n",
    "original_data.head()"
   ]
  },
  {
   "cell_type": "markdown",
   "metadata": {},
   "source": [
    "## Lemmatization"
   ]
  },
  {
   "cell_type": "code",
   "execution_count": 17,
   "metadata": {},
   "outputs": [
    {
     "data": {
      "text/plain": [
       "0    rock destined 21st century new conan he going ...\n",
       "1    gorgeously elaborate continuation lord ring tr...\n",
       "2                            effective tootepid biopic\n",
       "3    sometimes like go movie fun wasabi good place ...\n",
       "4    emerges something rare issue thats honest keen...\n",
       "Name: text, dtype: object"
      ]
     },
     "execution_count": 17,
     "metadata": {},
     "output_type": "execute_result"
    }
   ],
   "source": [
    "from textblob import Word\n",
    "original_data['text'] = original_data['text'].apply(lambda x: \" \".join([Word(word).lemmatize() for word in x.split()]))\n",
    "original_data['text'].head()"
   ]
  },
  {
   "cell_type": "code",
   "execution_count": 18,
   "metadata": {},
   "outputs": [],
   "source": [
    "original_data[['text','y','split']].to_csv(\"data/processed_data.csv\")"
   ]
  }
 ],
 "metadata": {
  "kernelspec": {
   "display_name": "Python 3",
   "language": "python",
   "name": "python3"
  },
  "language_info": {
   "codemirror_mode": {
    "name": "ipython",
    "version": 3
   },
   "file_extension": ".py",
   "mimetype": "text/x-python",
   "name": "python",
   "nbconvert_exporter": "python",
   "pygments_lexer": "ipython3",
   "version": "3.6.8"
  }
 },
 "nbformat": 4,
 "nbformat_minor": 2
}
