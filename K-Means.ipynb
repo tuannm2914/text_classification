{
 "cells": [
  {
   "cell_type": "markdown",
   "metadata": {},
   "source": [
    "# K-means clustering"
   ]
  },
  {
   "cell_type": "code",
   "execution_count": 77,
   "metadata": {},
   "outputs": [],
   "source": [
    "import pandas as pd\n",
    "import numpy as np"
   ]
  },
  {
   "cell_type": "code",
   "execution_count": 78,
   "metadata": {},
   "outputs": [
    {
     "data": {
      "text/html": [
       "<div>\n",
       "<style scoped>\n",
       "    .dataframe tbody tr th:only-of-type {\n",
       "        vertical-align: middle;\n",
       "    }\n",
       "\n",
       "    .dataframe tbody tr th {\n",
       "        vertical-align: top;\n",
       "    }\n",
       "\n",
       "    .dataframe thead th {\n",
       "        text-align: right;\n",
       "    }\n",
       "</style>\n",
       "<table border=\"1\" class=\"dataframe\">\n",
       "  <thead>\n",
       "    <tr style=\"text-align: right;\">\n",
       "      <th></th>\n",
       "      <th>text</th>\n",
       "      <th>y</th>\n",
       "    </tr>\n",
       "  </thead>\n",
       "  <tbody>\n",
       "    <tr>\n",
       "      <th>0</th>\n",
       "      <td>rock destined 21st century new conan he going ...</td>\n",
       "      <td>1</td>\n",
       "    </tr>\n",
       "    <tr>\n",
       "      <th>1</th>\n",
       "      <td>gorgeously elaborate continuation lord ring tr...</td>\n",
       "      <td>1</td>\n",
       "    </tr>\n",
       "    <tr>\n",
       "      <th>2</th>\n",
       "      <td>effective tootepid biopic</td>\n",
       "      <td>1</td>\n",
       "    </tr>\n",
       "    <tr>\n",
       "      <th>3</th>\n",
       "      <td>sometimes like go movie fun wasabi good place ...</td>\n",
       "      <td>1</td>\n",
       "    </tr>\n",
       "    <tr>\n",
       "      <th>4</th>\n",
       "      <td>emerges something rare issue thats honest keen...</td>\n",
       "      <td>1</td>\n",
       "    </tr>\n",
       "  </tbody>\n",
       "</table>\n",
       "</div>"
      ],
      "text/plain": [
       "                                                text  y\n",
       "0  rock destined 21st century new conan he going ...  1\n",
       "1  gorgeously elaborate continuation lord ring tr...  1\n",
       "2                          effective tootepid biopic  1\n",
       "3  sometimes like go movie fun wasabi good place ...  1\n",
       "4  emerges something rare issue thats honest keen...  1"
      ]
     },
     "execution_count": 78,
     "metadata": {},
     "output_type": "execute_result"
    }
   ],
   "source": [
    "data = pd.read_csv('data/processed_data.csv')\n",
    "data = data[['text','y']]\n",
    "\n",
    "data.head()"
   ]
  },
  {
   "cell_type": "markdown",
   "metadata": {},
   "source": [
    "# Build K-means clustering from scratch with Python"
   ]
  },
  {
   "cell_type": "code",
   "execution_count": 79,
   "metadata": {},
   "outputs": [],
   "source": [
    "from sklearn.feature_extraction.text import CountVectorizer\n",
    "from scipy.spatial.distance import cdist"
   ]
  },
  {
   "cell_type": "code",
   "execution_count": 81,
   "metadata": {},
   "outputs": [],
   "source": [
    "# vectorize data to dictionary\n",
    "def vectorize_data(data):\n",
    "    vectorizer = CountVectorizer()\n",
    "    x = vectorizer.fit_transform(data)\n",
    "    vectorized_data = x.toarray()\n",
    "    return vectorized_data"
   ]
  },
  {
   "cell_type": "code",
   "execution_count": 80,
   "metadata": {},
   "outputs": [],
   "source": [
    "# plit data to train and test set\n",
    "def train_test(data):\n",
    "    np.random.seed(3) \n",
    "    msk = np.random.rand(len(data)) < 0.8\n",
    "    train_data = data[msk]\n",
    "    test_data = data[~msk]\n",
    "    return train_data,test_data"
   ]
  },
  {
   "cell_type": "code",
   "execution_count": 82,
   "metadata": {},
   "outputs": [],
   "source": [
    "# initialize centers for dataset\n",
    "def init_centers(vectorized_data):\n",
    "    return np.array([np.mean(vectorized_data[-5331:],axis = 0),np.mean(vectorized_data[0:5330],axis = 0)])"
   ]
  },
  {
   "cell_type": "code",
   "execution_count": 83,
   "metadata": {},
   "outputs": [],
   "source": [
    "# assign new label for all data point\n",
    "def assign_labels(vectorized_data,centers):\n",
    "    distance = cdist(centers,vectorized_data)\n",
    "    return np.argmin(distance, axis = 0)"
   ]
  },
  {
   "cell_type": "code",
   "execution_count": 84,
   "metadata": {},
   "outputs": [],
   "source": [
    "# update center\n",
    "def update_centers(vectorized_data,labels):\n",
    "    centers = np.zeros((2,vectorized_data.shape[1]))\n",
    "    pos_data = vectorized_data[labels == 1,:]\n",
    "    pos_center = np.mean(pos_data,axis = 0)\n",
    "    centers[1, :] = pos_center\n",
    "    neg_data = vectorized_data[labels == 0,:]\n",
    "    neg_center = np.mean(neg_data,axis = 0)\n",
    "    centers[0, :] = neg_center\n",
    "    return centers"
   ]
  },
  {
   "cell_type": "code",
   "execution_count": 85,
   "metadata": {},
   "outputs": [],
   "source": [
    "#  check if no changing then stop \n",
    "def check_converge(centers,new_centers):\n",
    "    return (set([tuple(a) for a in centers]) == set([tuple(a) for a in new_centers]))\n",
    "       "
   ]
  },
  {
   "cell_type": "code",
   "execution_count": 86,
   "metadata": {},
   "outputs": [
    {
     "name": "stdout",
     "output_type": "stream",
     "text": [
      "centers founded after 8 iteration : \n",
      " [[0.         0.00067751 0.00067751 ... 0.         0.         0.        ]\n",
      " [0.         0.         0.00014134 ... 0.00014134 0.00014134 0.00014134]]\n"
     ]
    }
   ],
   "source": [
    "# create data \n",
    "vectorized_data = vectorize_data(data['text'])\n",
    "v_train,v_test = train_test(vectorized_data)\n",
    "y_train,y_test = train_test(data['y'])\n",
    "\n",
    "# init center\n",
    "centers = init_centers(v_train)\n",
    "iter = 0\n",
    "\n",
    "while True:\n",
    "    # assign labels\n",
    "    labels = assign_labels(v_train,centers)\n",
    "    \n",
    "    # update center\n",
    "    new_centers = update_centers(v_train,labels)\n",
    "    \n",
    "    # breaking condition\n",
    "    if check_converge(centers,new_centers):\n",
    "        break\n",
    "    \n",
    "    # final center\n",
    "    centers = new_centers\n",
    "    iter += 1\n",
    "print(\"centers founded after %d iteration : \\n\"%(iter),centers)\n",
    "    "
   ]
  },
  {
   "cell_type": "code",
   "execution_count": 87,
   "metadata": {},
   "outputs": [
    {
     "name": "stdout",
     "output_type": "stream",
     "text": [
      "some prediction :  [0 1 1 1 1 0 0 1 1 1]\n",
      "0.6707721459024159\n"
     ]
    }
   ],
   "source": [
    "y_test = y_test\n",
    "test_labels = assign_labels(v_test,centers)\n",
    "print(\"some prediction : \",test_labels[0:10])\n",
    "print(1 - np.absolute(np.sum(test_labels - y_test)) / len(y_test))\n"
   ]
  },
  {
   "cell_type": "markdown",
   "metadata": {},
   "source": [
    "# Use K-means model in Scikit-Learn"
   ]
  },
  {
   "cell_type": "code",
   "execution_count": 88,
   "metadata": {},
   "outputs": [
    {
     "name": "stderr",
     "output_type": "stream",
     "text": [
      "/home/tuannm/anaconda3/lib/python3.6/site-packages/sklearn/cluster/k_means_.py:971: RuntimeWarning: Explicit initial center position passed: performing only one init in k-means instead of n_init=10\n",
      "  return_n_iter=True)\n"
     ]
    },
    {
     "name": "stdout",
     "output_type": "stream",
     "text": [
      "Centers found by scikit-learn:\n",
      "[[ 0.00000000e+00  6.77506775e-04  6.77506775e-04 ...  1.21972744e-19\n",
      "   1.21972744e-19  1.21972744e-19]\n",
      " [ 0.00000000e+00 -1.92445886e-17  1.41342756e-04 ...  1.41342756e-04\n",
      "   1.41342756e-04  1.41342756e-04]]\n"
     ]
    }
   ],
   "source": [
    "# use scikit-learn\n",
    "from sklearn.cluster import KMeans\n",
    "init_centers = init_centers(vectorized_data)\n",
    "kmeans = KMeans(n_clusters=2,init = init_centers, random_state=0).fit(v_train)\n",
    "print('Centers found by scikit-learn:')\n",
    "print(kmeans.cluster_centers_)\n",
    "pred_label = kmeans.predict(v_test)"
   ]
  },
  {
   "cell_type": "code",
   "execution_count": 89,
   "metadata": {},
   "outputs": [
    {
     "name": "stdout",
     "output_type": "stream",
     "text": [
      "some prediction :  [0 1 1 1 1 0 0 1 1 1]\n",
      "accuracy :  0.6707721459024159\n"
     ]
    }
   ],
   "source": [
    "print(\"some prediction : \",pred_label[0:10])\n",
    "print(\"accuracy : \",1 - np.absolute(np.sum(pred_label - y_test)) / len(y_test))"
   ]
  },
  {
   "cell_type": "markdown",
   "metadata": {},
   "source": [
    "# Conclusion"
   ]
  },
  {
   "cell_type": "markdown",
   "metadata": {},
   "source": [
    "My model build from scratch and sklearn model have same result"
   ]
  }
 ],
 "metadata": {
  "kernelspec": {
   "display_name": "Python 3",
   "language": "python",
   "name": "python3"
  },
  "language_info": {
   "codemirror_mode": {
    "name": "ipython",
    "version": 3
   },
   "file_extension": ".py",
   "mimetype": "text/x-python",
   "name": "python",
   "nbconvert_exporter": "python",
   "pygments_lexer": "ipython3",
   "version": "3.6.8"
  }
 },
 "nbformat": 4,
 "nbformat_minor": 2
}
