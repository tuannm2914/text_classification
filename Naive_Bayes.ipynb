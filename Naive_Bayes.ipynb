{
 "cells": [
  {
   "cell_type": "markdown",
   "metadata": {},
   "source": [
    "# Naive Bayes"
   ]
  },
  {
   "cell_type": "code",
   "execution_count": 1,
   "metadata": {},
   "outputs": [],
   "source": [
    "import pandas as pd\n",
    "import numpy as np\n",
    "from collections import defaultdict,Counter"
   ]
  },
  {
   "cell_type": "code",
   "execution_count": 2,
   "metadata": {},
   "outputs": [],
   "source": [
    "data = pd.read_csv(\"data/raw_data.csv\")\n",
    "data = data[['text','y']]"
   ]
  },
  {
   "cell_type": "code",
   "execution_count": 3,
   "metadata": {},
   "outputs": [
    {
     "data": {
      "text/html": [
       "<div>\n",
       "<style scoped>\n",
       "    .dataframe tbody tr th:only-of-type {\n",
       "        vertical-align: middle;\n",
       "    }\n",
       "\n",
       "    .dataframe tbody tr th {\n",
       "        vertical-align: top;\n",
       "    }\n",
       "\n",
       "    .dataframe thead th {\n",
       "        text-align: right;\n",
       "    }\n",
       "</style>\n",
       "<table border=\"1\" class=\"dataframe\">\n",
       "  <thead>\n",
       "    <tr style=\"text-align: right;\">\n",
       "      <th></th>\n",
       "      <th>text</th>\n",
       "      <th>y</th>\n",
       "    </tr>\n",
       "  </thead>\n",
       "  <tbody>\n",
       "    <tr>\n",
       "      <th>0</th>\n",
       "      <td>the rock is destined to be the 21st century's ...</td>\n",
       "      <td>1</td>\n",
       "    </tr>\n",
       "    <tr>\n",
       "      <th>1</th>\n",
       "      <td>the gorgeously elaborate continuation of \" the...</td>\n",
       "      <td>1</td>\n",
       "    </tr>\n",
       "    <tr>\n",
       "      <th>2</th>\n",
       "      <td>effective but too-tepid biopic</td>\n",
       "      <td>1</td>\n",
       "    </tr>\n",
       "    <tr>\n",
       "      <th>3</th>\n",
       "      <td>if you sometimes like to go to the movies to h...</td>\n",
       "      <td>1</td>\n",
       "    </tr>\n",
       "    <tr>\n",
       "      <th>4</th>\n",
       "      <td>emerges as something rare , an issue movie tha...</td>\n",
       "      <td>1</td>\n",
       "    </tr>\n",
       "  </tbody>\n",
       "</table>\n",
       "</div>"
      ],
      "text/plain": [
       "                                                text  y\n",
       "0  the rock is destined to be the 21st century's ...  1\n",
       "1  the gorgeously elaborate continuation of \" the...  1\n",
       "2                     effective but too-tepid biopic  1\n",
       "3  if you sometimes like to go to the movies to h...  1\n",
       "4  emerges as something rare , an issue movie tha...  1"
      ]
     },
     "execution_count": 3,
     "metadata": {},
     "output_type": "execute_result"
    }
   ],
   "source": [
    "data.head()"
   ]
  },
  {
   "cell_type": "markdown",
   "metadata": {},
   "source": [
    "# Build Naive Bayes from scratch in Python"
   ]
  },
  {
   "cell_type": "code",
   "execution_count": 4,
   "metadata": {},
   "outputs": [],
   "source": [
    "#  split data to train ,test set\n",
    "def train_test(data,number_sample):\n",
    "    if(number_sample > len(data)):\n",
    "        number_sample = len(data)\n",
    "    number_sample = int(number_sample / 2)\n",
    "    pos_sample = data[:number_sample]\n",
    "    neg_sample = data[-number_sample:]\n",
    "    final_sample = [pos_sample,neg_sample]\n",
    "    df_final_sample = pd.concat(final_sample)\n",
    "    df_final_sample = df_final_sample[['text','y']].sample(frac=1)\n",
    "    \n",
    "    msk = np.random.rand(len(df_final_sample)) < 0.8\n",
    "    train_data = df_final_sample[msk]\n",
    "    test_data = df_final_sample[~msk]\n",
    "    test_data = test_data[['text','y']]\n",
    "    return train_data,test_data"
   ]
  },
  {
   "cell_type": "code",
   "execution_count": 5,
   "metadata": {},
   "outputs": [],
   "source": [
    "# get word dictionary and some statistics\n",
    "def get_dict(data):\n",
    "    pos_vocab = defaultdict(float)\n",
    "    neg_vocab = defaultdict(float)\n",
    "    pos_count = 0\n",
    "    neg_count = 0\n",
    "    pos_total_words = 0\n",
    "    neg_total_words = 0\n",
    "    \n",
    "    for row in data.itertuples(False):\n",
    "        sen = row[0]\n",
    "        label = row[1]\n",
    "        if label is 0:\n",
    "            words = set(sen.split())\n",
    "            for w in words:\n",
    "                neg_total_words += 1\n",
    "                if w not in neg_vocab:\n",
    "                    neg_count += 1\n",
    "                neg_vocab[w] += 1\n",
    "        else:\n",
    "            words = set(sen.split())\n",
    "            for w in words:\n",
    "                pos_total_words += 1\n",
    "                if w not in pos_vocab:\n",
    "                    pos_count += 1\n",
    "                pos_vocab[w] += 1\n",
    "    # word dictionary for positive vocaburary and negative vocaburary\n",
    "    vocabs = (pos_vocab,neg_vocab)\n",
    "    \n",
    "    # uniqe word\n",
    "    counts = (pos_count,neg_count)\n",
    "    \n",
    "    # total number word\n",
    "    total_words = (pos_total_words,neg_total_words)\n",
    "    return vocabs,counts,total_words                     "
   ]
  },
  {
   "cell_type": "code",
   "execution_count": 6,
   "metadata": {},
   "outputs": [],
   "source": [
    "# get probability of a word in each dictionary (positive,negative)\n",
    "def get_word_prob(word,arg):\n",
    "    dic,count,total = arg\n",
    "    w_freq = 0\n",
    "    if word in dic:\n",
    "        w_freq = dic[word]\n",
    "    return (1 + w_freq) / (count + total)"
   ]
  },
  {
   "cell_type": "code",
   "execution_count": 7,
   "metadata": {},
   "outputs": [],
   "source": [
    "# get probability of a sentence in each dictionary (positive,negative)\n",
    "def get_sentence_prob(s,arg):\n",
    "    dic,count,total = arg\n",
    "    prob = 1\n",
    "    for word in set(s.split()):\n",
    "        prob *= get_word_prob(word,arg)\n",
    "    return prob"
   ]
  },
  {
   "cell_type": "code",
   "execution_count": 8,
   "metadata": {},
   "outputs": [],
   "source": [
    "# get probability of a sentence in each class\n",
    "def get_prob(s,vocabs,counts,total_words):\n",
    "    pos_vocab,neg_vocab = vocabs\n",
    "    pos_count,neg_count = counts\n",
    "    pos_total_words,neg_total_words = total_words\n",
    "    \n",
    "    pos_arg = (pos_vocab,pos_count,pos_total_words)\n",
    "    neg_arg = (neg_vocab,neg_count,neg_total_words)\n",
    "    \n",
    "    pos_prob = get_sentence_prob(s,pos_arg)\n",
    "    neg_prob = get_sentence_prob(s,neg_arg)\n",
    "    \n",
    "    NB_prob = {}\n",
    "    NB_prob['pos'] = pos_prob / (pos_prob + neg_prob)\n",
    "    NB_prob['neg'] = 1 - NB_prob['pos']\n",
    "    return NB_prob      "
   ]
  },
  {
   "cell_type": "code",
   "execution_count": 9,
   "metadata": {},
   "outputs": [],
   "source": [
    "# predict data\n",
    "def predict(test_data,vocabs,counts,total_words):\n",
    "    NB_prob = get_prob(test_data[0],vocabs,counts,total_words)\n",
    "    rs = (1 if NB_prob['pos'] > NB_prob['neg'] else 0 )\n",
    "    if rs == test_data[1]:\n",
    "        return True\n",
    "    return False        "
   ]
  },
  {
   "cell_type": "code",
   "execution_count": 10,
   "metadata": {},
   "outputs": [],
   "source": [
    "# get something\n",
    "def get_metric(test_data,vocabs,counts,total_words):\n",
    "    cnt = Counter()\n",
    "    for row in test_data.itertuples(False):\n",
    "        if(predict(row,vocabs,counts,total_words)):\n",
    "            cnt['True'] += 1\n",
    "        else:\n",
    "            cnt['False'] += 1\n",
    "    return cnt,(cnt['True'] / (cnt['True'] + cnt['False']))  "
   ]
  },
  {
   "cell_type": "code",
   "execution_count": 11,
   "metadata": {
    "scrolled": true
   },
   "outputs": [
    {
     "name": "stdout",
     "output_type": "stream",
     "text": [
      "True\n",
      "{'pos': 0.011074368445888398, 'neg': 0.9889256315541116}\n",
      "real label :  0\n",
      "True\n",
      "{'pos': 0.14335148760538152, 'neg': 0.8566485123946185}\n",
      "real label :  0\n",
      "True\n",
      "{'pos': 0.692711822642008, 'neg': 0.30728817735799197}\n",
      "real label :  1\n",
      "False\n",
      "{'pos': 0.4761613975022759, 'neg': 0.5238386024977242}\n",
      "real label :  1\n",
      "False\n",
      "{'pos': 0.7514528809204597, 'neg': 0.2485471190795403}\n",
      "real label :  0\n",
      "True\n",
      "{'pos': 0.9920810475518269, 'neg': 0.007918952448173089}\n",
      "real label :  1\n",
      "True\n",
      "{'pos': 0.6301972495807876, 'neg': 0.3698027504192124}\n",
      "real label :  1\n",
      "False\n",
      "{'pos': 0.0840421551448212, 'neg': 0.9159578448551788}\n",
      "real label :  1\n",
      "False\n",
      "{'pos': 0.18948698730374697, 'neg': 0.810513012696253}\n",
      "real label :  1\n",
      "True\n",
      "{'pos': 0.846310162320438, 'neg': 0.153689837679562}\n",
      "real label :  1\n",
      "================================================================================\n",
      "accuracy : 0.777667493796526\n",
      "Counter({'True': 1567, 'False': 448})\n"
     ]
    }
   ],
   "source": [
    "# create data\n",
    "number_sample = 10000\n",
    "original_data = pd.read_csv(\"data/processed_data.csv\")\n",
    "train_data,test_data = train_test(original_data,number_sample)\n",
    "vocabs,counts,total_words = get_dict(train_data)\n",
    "\n",
    "# get accuracy metric\n",
    "counter,acc = get_metric(test_data,vocabs,counts,total_words)\n",
    "\n",
    "# display some prob result\n",
    "for row in test_data[0:10].itertuples(False):\n",
    "    print(predict(row,vocabs,counts,total_words))\n",
    "    print(get_prob(row[0],vocabs,counts,total_words))\n",
    "    print(\"real label : \", row[1])\n",
    "print(\"=\"*80)\n",
    "print(\"accuracy :\", acc)\n",
    "print(counter)\n"
   ]
  },
  {
   "cell_type": "markdown",
   "metadata": {},
   "source": [
    "# Use Naive Bayes model in Scikit-Learn"
   ]
  },
  {
   "cell_type": "code",
   "execution_count": 20,
   "metadata": {},
   "outputs": [],
   "source": [
    "from sklearn.feature_extraction.text import HashingVectorizer,CountVectorizer\n",
    "from sklearn.naive_bayes import MultinomialNB\n",
    "from sklearn import metrics"
   ]
  },
  {
   "cell_type": "code",
   "execution_count": 33,
   "metadata": {},
   "outputs": [],
   "source": [
    "# use hash table to hash data\n",
    "vectorizer = HashingVectorizer(stop_words='english', alternate_sign=False)\n",
    "X_train = vectorizer.transform(train_data['text'])\n",
    "X_test = vectorizer.transform(test_data['text'])\n",
    "y_train,y_test = train_data['y'],test_data['y']"
   ]
  },
  {
   "cell_type": "code",
   "execution_count": 34,
   "metadata": {
    "scrolled": true
   },
   "outputs": [
    {
     "name": "stdout",
     "output_type": "stream",
     "text": [
      "Accuracy :  0.7478908188585608\n"
     ]
    }
   ],
   "source": [
    "# use library\n",
    "clf = MultinomialNB(alpha=.01)\n",
    "clf.fit(X_train,y_train)\n",
    "pred = clf.predict(X_test)\n",
    "score = metrics.accuracy_score(y_test, pred)\n",
    "print(\"Accuracy : \",score)"
   ]
  },
  {
   "cell_type": "markdown",
   "metadata": {},
   "source": [
    "## Conclusion"
   ]
  },
  {
   "cell_type": "markdown",
   "metadata": {},
   "source": [
    "My model use optimal Bag of word got  a little bit accuracy than sklearn model use hashing table with default 1048576 features but it takes more times"
   ]
  },
  {
   "cell_type": "code",
   "execution_count": null,
   "metadata": {},
   "outputs": [],
   "source": []
  }
 ],
 "metadata": {
  "kernelspec": {
   "display_name": "Python 3",
   "language": "python",
   "name": "python3"
  },
  "language_info": {
   "codemirror_mode": {
    "name": "ipython",
    "version": 3
   },
   "file_extension": ".py",
   "mimetype": "text/x-python",
   "name": "python",
   "nbconvert_exporter": "python",
   "pygments_lexer": "ipython3",
   "version": "3.6.8"
  }
 },
 "nbformat": 4,
 "nbformat_minor": 2
}
